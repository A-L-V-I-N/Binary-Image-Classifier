{
  "nbformat": 4,
  "nbformat_minor": 0,
  "metadata": {
    "accelerator": "GPU",
    "colab": {
      "name": "Model_Train.ipynb",
      "provenance": [],
      "collapsed_sections": []
    },
    "kernelspec": {
      "display_name": "Python 3",
      "name": "python3"
    }
  },
  "cells": [
    {
      "cell_type": "code",
      "metadata": {
        "colab": {
          "base_uri": "https://localhost:8080/"
        },
        "id": "Ui9cLjMdn17_",
        "outputId": "d7a50ca0-16e1-4dff-ef1a-fe4fc7bb6daa"
      },
      "source": [
        "from google.colab import drive\n",
        "drive.mount('/content/drive')"
      ],
      "execution_count": null,
      "outputs": [
        {
          "output_type": "stream",
          "text": [
            "Mounted at /content/drive\n"
          ],
          "name": "stdout"
        }
      ]
    },
    {
      "cell_type": "code",
      "metadata": {
        "colab": {
          "base_uri": "https://localhost:8080/"
        },
        "id": "1f3aQpEdb-vO",
        "outputId": "c16b959a-7adf-4e83-a4ac-86bd62353e39"
      },
      "source": [
        "%tensorflow_version 1.x"
      ],
      "execution_count": null,
      "outputs": [
        {
          "output_type": "stream",
          "text": [
            "TensorFlow 1.x selected.\n"
          ],
          "name": "stdout"
        }
      ]
    },
    {
      "cell_type": "markdown",
      "metadata": {
        "id": "Sqs8xkUUT7ex"
      },
      "source": [
        "#Data Preprocessing"
      ]
    },
    {
      "cell_type": "code",
      "metadata": {
        "colab": {
          "base_uri": "https://localhost:8080/"
        },
        "id": "k89Phl5nTfYU",
        "outputId": "f0c9036d-4324-4a91-cd8a-1c9d99a1eb1c"
      },
      "source": [
        "import cv2,os\n",
        "data_path='/content/drive/MyDrive/dataset/train'\n",
        "categories=os.listdir(data_path)\n",
        "labels=[i for i in range(len(categories))]\n",
        "\n",
        "label_dict=dict(zip(categories,labels)) #empty dictionary\n",
        "print(label_dict)\n",
        "print(categories)\n",
        "print(labels)"
      ],
      "execution_count": null,
      "outputs": [
        {
          "output_type": "stream",
          "text": [
            "{'ship': 0, 'truck': 1}\n",
            "['ship', 'truck']\n",
            "[0, 1]\n"
          ],
          "name": "stdout"
        }
      ]
    },
    {
      "cell_type": "code",
      "metadata": {
        "colab": {
          "base_uri": "https://localhost:8080/",
          "height": 266
        },
        "id": "adXbv9D_vyof",
        "outputId": "d2783e79-28be-4430-d8fa-907209fdf49f"
      },
      "source": [
        "import matplotlib.pyplot as plt\n",
        "\n",
        "\n",
        "img_size=32\n",
        "\n",
        "for category in categories:\n",
        "    folder_path=os.path.join(data_path,category)\n",
        "    img_names=os.listdir(folder_path)\n",
        "        \n",
        "    for img_name in img_names:\n",
        "        img_path=os.path.join(folder_path,img_name)\n",
        "        img=cv2.imread(img_path)\n",
        "        resized=cv2.resize(img,(img_size,img_size))\n",
        "        plt.imshow(img)\n",
        "        break"
      ],
      "execution_count": null,
      "outputs": [
        {
          "output_type": "display_data",
          "data": {
            "image/png": "[encoded data removed]",
            "text/plain": [
              "<Figure size 432x288 with 1 Axes>"
            ]
          },
          "metadata": {
            "tags": [],
            "needs_background": "light"
          }
        }
      ]
    },
    {
      "cell_type": "code",
      "metadata": {
        "id": "BScfeIRlTtlL"
      },
      "source": [
        "img_size=32\n",
        "data=[]\n",
        "target=[]\n",
        "\n",
        "for category in categories:\n",
        "    folder_path=os.path.join(data_path,category)\n",
        "    img_names=os.listdir(folder_path)\n",
        "        \n",
        "    for img_name in img_names:\n",
        "        img_path=os.path.join(folder_path,img_name)\n",
        "        img=cv2.imread(img_path)\n",
        "\n",
        "        try:  \n",
        "            resized=cv2.resize(img,(img_size,img_size))\n",
        "            #resizing the image  into 100x100, since we need a fixed common size for all the images in the dataset\n",
        "            data.append(resized)\n",
        "            target.append(label_dict[category])\n",
        "            #appending the image and the label(categorized) into the list (dataset)\n",
        "        except Exception as e:\n",
        "            print('Exception:',e)\n",
        "            #if any exception rasied, the exception will be printed here. And pass to the next image"
      ],
      "execution_count": null,
      "outputs": []
    },
    {
      "cell_type": "code",
      "metadata": {
        "id": "VVeIlv0H3vQA"
      },
      "source": [
        "import random\n",
        "random.shuffle(data)"
      ],
      "execution_count": null,
      "outputs": []
    },
    {
      "cell_type": "code",
      "metadata": {
        "colab": {
          "base_uri": "https://localhost:8080/"
        },
        "id": "ACt2trb_4Qix",
        "outputId": "4474a5bd-42a5-499b-d371-c8a8216ee495"
      },
      "source": [
        "target[7]"
      ],
      "execution_count": null,
      "outputs": [
        {
          "output_type": "execute_result",
          "data": {
            "text/plain": [
              "0"
            ]
          },
          "metadata": {
            "tags": []
          },
          "execution_count": 12
        }
      ]
    },
    {
      "cell_type": "code",
      "metadata": {
        "colab": {
          "base_uri": "https://localhost:8080/"
        },
        "id": "6gnG5W9NDXWY",
        "outputId": "8833b79d-829d-4341-a798-d6f272ded92c"
      },
      "source": [
        "data[7]"
      ],
      "execution_count": null,
      "outputs": [
        {
          "output_type": "execute_result",
          "data": {
            "text/plain": [
              "array([[[196, 162, 118],\n",
              "        [196, 162, 118],\n",
              "        [196, 161, 117],\n",
              "        ...,\n",
              "        [195, 154, 111],\n",
              "        [197, 156, 113],\n",
              "        [198, 158, 115]],\n",
              "\n",
              "       [[200, 165, 120],\n",
              "        [200, 165, 120],\n",
              "        [202, 167, 123],\n",
              "        ...,\n",
              "        [197, 155, 112],\n",
              "        [199, 156, 113],\n",
              "        [197, 157, 113]],\n",
              "\n",
              "       [[199, 164, 120],\n",
              "        [199, 164, 121],\n",
              "        [202, 167, 124],\n",
              "        ...,\n",
              "        [198, 156, 113],\n",
              "        [200, 158, 115],\n",
              "        [200, 160, 116]],\n",
              "\n",
              "       ...,\n",
              "\n",
              "       [[ 90, 186, 192],\n",
              "        [ 88, 184, 190],\n",
              "        [ 86, 183, 189],\n",
              "        ...,\n",
              "        [190, 160, 159],\n",
              "        [204, 176, 162],\n",
              "        [208, 183, 154]],\n",
              "\n",
              "       [[ 87, 185, 191],\n",
              "        [ 86, 182, 188],\n",
              "        [ 87, 182, 188],\n",
              "        ...,\n",
              "        [200, 172, 159],\n",
              "        [209, 183, 159],\n",
              "        [209, 185, 150]],\n",
              "\n",
              "       [[ 81, 177, 183],\n",
              "        [ 81, 174, 180],\n",
              "        [ 81, 172, 179],\n",
              "        ...,\n",
              "        [196, 176, 136],\n",
              "        [203, 182, 136],\n",
              "        [207, 186, 139]]], dtype=uint8)"
            ]
          },
          "metadata": {
            "tags": []
          },
          "execution_count": 13
        }
      ]
    },
    {
      "cell_type": "markdown",
      "metadata": {
        "id": "mYQHryCXVQa9"
      },
      "source": [
        "#Recale and assign  catagorical lables"
      ]
    },
    {
      "cell_type": "code",
      "metadata": {
        "id": "DRj6dU9zTxNw",
        "colab": {
          "base_uri": "https://localhost:8080/"
        },
        "outputId": "7642aedf-2289-4075-9d0c-1ca3c91ed90a"
      },
      "source": [
        "import numpy as np\n",
        "data=np.array(data)/255.0\n",
        "data=np.reshape(data,(data.shape[0],img_size,img_size,3))\n",
        "target=np.array(target)\n",
        "from keras.utils import np_utils\n",
        "new_target=np_utils.to_categorical(target)"
      ],
      "execution_count": null,
      "outputs": [
        {
          "output_type": "stream",
          "text": [
            "Using TensorFlow backend.\n"
          ],
          "name": "stderr"
        }
      ]
    },
    {
      "cell_type": "code",
      "metadata": {
        "colab": {
          "base_uri": "https://localhost:8080/"
        },
        "id": "M2Ww7WuoeRAo",
        "outputId": "4de75845-7638-4d05-d6a1-8d8e43ab3fd6"
      },
      "source": [
        "new_target.shape"
      ],
      "execution_count": null,
      "outputs": [
        {
          "output_type": "execute_result",
          "data": {
            "text/plain": [
              "(10010, 2)"
            ]
          },
          "metadata": {
            "tags": []
          },
          "execution_count": 15
        }
      ]
    },
    {
      "cell_type": "markdown",
      "metadata": {
        "id": "at-tkV9EUH8v"
      },
      "source": [
        "#CNN Model"
      ]
    },
    {
      "cell_type": "code",
      "metadata": {
        "colab": {
          "base_uri": "https://localhost:8080/"
        },
        "id": "w5yQijqzVHJN",
        "outputId": "2409d94d-8a6e-41cd-b370-d0852f23de95"
      },
      "source": [
        "data.shape"
      ],
      "execution_count": null,
      "outputs": [
        {
          "output_type": "execute_result",
          "data": {
            "text/plain": [
              "(10010, 32, 32, 3)"
            ]
          },
          "metadata": {
            "tags": []
          },
          "execution_count": 16
        }
      ]
    },
    {
      "cell_type": "code",
      "metadata": {
        "colab": {
          "base_uri": "https://localhost:8080/"
        },
        "id": "L1JcfG4MdVZ2",
        "outputId": "462b9f62-15b9-499d-dadf-f25686b56d0f"
      },
      "source": [
        "data.shape[1:]"
      ],
      "execution_count": null,
      "outputs": [
        {
          "output_type": "execute_result",
          "data": {
            "text/plain": [
              "(32, 32, 3)"
            ]
          },
          "metadata": {
            "tags": []
          },
          "execution_count": 17
        }
      ]
    },
    {
      "cell_type": "code",
      "metadata": {
        "id": "XgsZogOtUPm2",
        "colab": {
          "base_uri": "https://localhost:8080/"
        },
        "outputId": "1685810f-991b-4557-b216-2efc785c8a51"
      },
      "source": [
        "from keras.models import Sequential\n",
        "from keras.layers import Dense,Activation,Flatten,Dropout\n",
        "from keras.layers import Conv2D,MaxPooling2D\n",
        "from keras.callbacks import ModelCheckpoint\n",
        "\n",
        "model=Sequential()\n",
        "\n",
        "model.add(Conv2D(200,(3,3),input_shape=data.shape[1:]))\n",
        "model.add(Activation('relu'))\n",
        "model.add(MaxPooling2D(pool_size=(2,2)))\n",
        "#The first CNN layer followed by Relu and MaxPooling layers\n",
        "\n",
        "model.add(Conv2D(100,(3,3)))\n",
        "model.add(Activation('relu'))\n",
        "model.add(MaxPooling2D(pool_size=(2,2)))\n",
        "#The second convolution layer followed by Relu and MaxPooling layers\n",
        "\n",
        "model.add(Flatten())\n",
        "model.add(Dropout(0.5))\n",
        "#Flatten layer to stack the output convolutions from second convolution layer\n",
        "model.add(Dense(50,activation='relu'))\n",
        "#Dense layer of 64 neurons\n",
        "model.add(Dense(2,activation='softmax'))\n",
        "#The Final layer with two outputs for two categories\n",
        "\n",
        "model.compile(loss='categorical_crossentropy',optimizer='adam',metrics=['accuracy'])"
      ],
      "execution_count": null,
      "outputs": [
        {
          "output_type": "stream",
          "text": [
            "WARNING:tensorflow:From /tensorflow-1.15.2/python3.7/tensorflow_core/python/ops/resource_variable_ops.py:1630: calling BaseResourceVariable.__init__ (from tensorflow.python.ops.resource_variable_ops) with constraint is deprecated and will be removed in a future version.\n",
            "Instructions for updating:\n",
            "If using Keras pass *_constraint arguments to layers.\n",
            "WARNING:tensorflow:From /tensorflow-1.15.2/python3.7/keras/backend/tensorflow_backend.py:4070: The name tf.nn.max_pool is deprecated. Please use tf.nn.max_pool2d instead.\n",
            "\n"
          ],
          "name": "stdout"
        }
      ]
    },
    {
      "cell_type": "code",
      "metadata": {
        "colab": {
          "base_uri": "https://localhost:8080/"
        },
        "id": "yfCMzZEpcyAM",
        "outputId": "3d40d529-6379-4f86-9b1b-a93821e5bc2a"
      },
      "source": [
        "model.summary()"
      ],
      "execution_count": null,
      "outputs": [
        {
          "output_type": "stream",
          "text": [
            "Model: \"sequential_1\"\n",
            "_________________________________________________________________\n",
            "Layer (type)                 Output Shape              Param #   \n",
            "=================================================================\n",
            "conv2d_1 (Conv2D)            (None, 30, 30, 200)       5600      \n",
            "_________________________________________________________________\n",
            "activation_1 (Activation)    (None, 30, 30, 200)       0         \n",
            "_________________________________________________________________\n",
            "max_pooling2d_1 (MaxPooling2 (None, 15, 15, 200)       0         \n",
            "_________________________________________________________________\n",
            "conv2d_2 (Conv2D)            (None, 13, 13, 100)       180100    \n",
            "_________________________________________________________________\n",
            "activation_2 (Activation)    (None, 13, 13, 100)       0         \n",
            "_________________________________________________________________\n",
            "max_pooling2d_2 (MaxPooling2 (None, 6, 6, 100)         0         \n",
            "_________________________________________________________________\n",
            "flatten_1 (Flatten)          (None, 3600)              0         \n",
            "_________________________________________________________________\n",
            "dropout_1 (Dropout)          (None, 3600)              0         \n",
            "_________________________________________________________________\n",
            "dense_1 (Dense)              (None, 50)                180050    \n",
            "_________________________________________________________________\n",
            "dense_2 (Dense)              (None, 2)                 102       \n",
            "=================================================================\n",
            "Total params: 365,852\n",
            "Trainable params: 365,852\n",
            "Non-trainable params: 0\n",
            "_________________________________________________________________\n"
          ],
          "name": "stdout"
        }
      ]
    },
    {
      "cell_type": "markdown",
      "metadata": {
        "id": "Lzs7FPsncqKT"
      },
      "source": [
        "#Splittiong data into traning and testing"
      ]
    },
    {
      "cell_type": "code",
      "metadata": {
        "id": "1oHT4H09UT8-"
      },
      "source": [
        "from sklearn.model_selection import train_test_split\n",
        "train_data,test_data,train_target,test_target=train_test_split(data,new_target,test_size=0.1)"
      ],
      "execution_count": null,
      "outputs": []
    },
    {
      "cell_type": "code",
      "metadata": {
        "colab": {
          "base_uri": "https://localhost:8080/"
        },
        "id": "sBdHmVpzdbny",
        "outputId": "466f2223-b971-4261-85df-aac07e20bf7c"
      },
      "source": [
        "train_data.shape"
      ],
      "execution_count": null,
      "outputs": [
        {
          "output_type": "execute_result",
          "data": {
            "text/plain": [
              "(9009, 32, 32, 3)"
            ]
          },
          "metadata": {
            "tags": []
          },
          "execution_count": 21
        }
      ]
    },
    {
      "cell_type": "code",
      "metadata": {
        "colab": {
          "base_uri": "https://localhost:8080/"
        },
        "id": "Yt9DmIiydgcq",
        "outputId": "53ec6cc2-6a09-44f2-a193-72ab0272b916"
      },
      "source": [
        "train_target.shape"
      ],
      "execution_count": null,
      "outputs": [
        {
          "output_type": "execute_result",
          "data": {
            "text/plain": [
              "(9009, 2)"
            ]
          },
          "metadata": {
            "tags": []
          },
          "execution_count": 22
        }
      ]
    },
    {
      "cell_type": "code",
      "metadata": {
        "colab": {
          "base_uri": "https://localhost:8080/"
        },
        "id": "3KMbQxIL5ZEX",
        "outputId": "ac74e1ff-0046-47ec-daea-26622ef11afa"
      },
      "source": [
        "test_data.shape"
      ],
      "execution_count": null,
      "outputs": [
        {
          "output_type": "execute_result",
          "data": {
            "text/plain": [
              "(1001, 32, 32, 3)"
            ]
          },
          "metadata": {
            "tags": []
          },
          "execution_count": 23
        }
      ]
    },
    {
      "cell_type": "code",
      "metadata": {
        "colab": {
          "base_uri": "https://localhost:8080/"
        },
        "id": "rmpEGWUMUUnh",
        "outputId": "f38302bc-be59-41ff-a859-58481de310f2"
      },
      "source": [
        "#checkpoint = ModelCheckpoint('model-{epoch:03d}.model',monitor='val_loss',verbose=0,save_best_only=True,mode='auto')\n",
        "history=model.fit(train_data,train_target,epochs=100,validation_split=0.2)"
      ],
      "execution_count": null,
      "outputs": [
        {
          "output_type": "stream",
          "text": [
            "WARNING:tensorflow:From /tensorflow-1.15.2/python3.7/keras/backend/tensorflow_backend.py:422: The name tf.global_variables is deprecated. Please use tf.compat.v1.global_variables instead.\n",
            "\n",
            "Train on 7207 samples, validate on 1802 samples\n",
            "Epoch 1/100\n",
            "7207/7207 [==============================] - 9s 1ms/step - loss: 0.4627 - accuracy: 0.7704 - val_loss: 0.5520 - val_accuracy: 0.7431\n",
            "Epoch 2/100\n",
            "7207/7207 [==============================] - 2s 219us/step - loss: 0.3112 - accuracy: 0.8707 - val_loss: 0.2475 - val_accuracy: 0.8946\n",
            "Epoch 3/100\n",
            "7207/7207 [==============================] - 2s 220us/step - loss: 0.2681 - accuracy: 0.8927 - val_loss: 0.2559 - val_accuracy: 0.8879\n",
            "Epoch 4/100\n",
            "7207/7207 [==============================] - 2s 216us/step - loss: 0.2432 - accuracy: 0.9030 - val_loss: 0.1968 - val_accuracy: 0.9240\n",
            "Epoch 5/100\n",
            "7207/7207 [==============================] - 2s 217us/step - loss: 0.2335 - accuracy: 0.9041 - val_loss: 0.2586 - val_accuracy: 0.8851\n",
            "Epoch 6/100\n",
            "7207/7207 [==============================] - 2s 215us/step - loss: 0.2121 - accuracy: 0.9170 - val_loss: 0.2178 - val_accuracy: 0.9229\n",
            "Epoch 7/100\n",
            "7207/7207 [==============================] - 2s 215us/step - loss: 0.1940 - accuracy: 0.9222 - val_loss: 0.2105 - val_accuracy: 0.9195\n",
            "Epoch 8/100\n",
            "7207/7207 [==============================] - 2s 217us/step - loss: 0.1928 - accuracy: 0.9220 - val_loss: 0.1673 - val_accuracy: 0.9417\n",
            "Epoch 9/100\n",
            "7207/7207 [==============================] - 2s 220us/step - loss: 0.1823 - accuracy: 0.9265 - val_loss: 0.1595 - val_accuracy: 0.9395\n",
            "Epoch 10/100\n",
            "7207/7207 [==============================] - 2s 217us/step - loss: 0.1656 - accuracy: 0.9334 - val_loss: 0.1573 - val_accuracy: 0.9406\n",
            "Epoch 11/100\n",
            "7207/7207 [==============================] - 2s 216us/step - loss: 0.1486 - accuracy: 0.9432 - val_loss: 0.1484 - val_accuracy: 0.9423\n",
            "Epoch 12/100\n",
            "7207/7207 [==============================] - 2s 216us/step - loss: 0.1373 - accuracy: 0.9464 - val_loss: 0.1571 - val_accuracy: 0.9462\n",
            "Epoch 13/100\n",
            "7207/7207 [==============================] - 2s 214us/step - loss: 0.1404 - accuracy: 0.9438 - val_loss: 0.1428 - val_accuracy: 0.9489\n",
            "Epoch 14/100\n",
            "7207/7207 [==============================] - 2s 216us/step - loss: 0.1276 - accuracy: 0.9503 - val_loss: 0.1370 - val_accuracy: 0.9456\n",
            "Epoch 15/100\n",
            "7207/7207 [==============================] - 2s 216us/step - loss: 0.1195 - accuracy: 0.9546 - val_loss: 0.1432 - val_accuracy: 0.9484\n",
            "Epoch 16/100\n",
            "7207/7207 [==============================] - 2s 214us/step - loss: 0.1141 - accuracy: 0.9593 - val_loss: 0.1458 - val_accuracy: 0.9495\n",
            "Epoch 17/100\n",
            "7207/7207 [==============================] - 2s 217us/step - loss: 0.1076 - accuracy: 0.9574 - val_loss: 0.1360 - val_accuracy: 0.9495\n",
            "Epoch 18/100\n",
            "7207/7207 [==============================] - 2s 226us/step - loss: 0.1042 - accuracy: 0.9603 - val_loss: 0.1506 - val_accuracy: 0.9473\n",
            "Epoch 19/100\n",
            "7207/7207 [==============================] - 2s 226us/step - loss: 0.1016 - accuracy: 0.9605 - val_loss: 0.1715 - val_accuracy: 0.9367\n",
            "Epoch 20/100\n",
            "7207/7207 [==============================] - 2s 226us/step - loss: 0.0970 - accuracy: 0.9646 - val_loss: 0.1406 - val_accuracy: 0.9528\n",
            "Epoch 21/100\n",
            "7207/7207 [==============================] - 2s 225us/step - loss: 0.0857 - accuracy: 0.9685 - val_loss: 0.1327 - val_accuracy: 0.9528\n",
            "Epoch 22/100\n",
            "7207/7207 [==============================] - 2s 228us/step - loss: 0.0811 - accuracy: 0.9684 - val_loss: 0.1481 - val_accuracy: 0.9517\n",
            "Epoch 23/100\n",
            "7207/7207 [==============================] - 2s 224us/step - loss: 0.0828 - accuracy: 0.9704 - val_loss: 0.1325 - val_accuracy: 0.9578\n",
            "Epoch 24/100\n",
            "7207/7207 [==============================] - 2s 226us/step - loss: 0.0691 - accuracy: 0.9746 - val_loss: 0.1703 - val_accuracy: 0.9428\n",
            "Epoch 25/100\n",
            "7207/7207 [==============================] - 2s 224us/step - loss: 0.0740 - accuracy: 0.9734 - val_loss: 0.1448 - val_accuracy: 0.9501\n",
            "Epoch 26/100\n",
            "7207/7207 [==============================] - 2s 227us/step - loss: 0.0691 - accuracy: 0.9738 - val_loss: 0.1509 - val_accuracy: 0.9517\n",
            "Epoch 27/100\n",
            "7207/7207 [==============================] - 2s 228us/step - loss: 0.0590 - accuracy: 0.9775 - val_loss: 0.1467 - val_accuracy: 0.9539\n",
            "Epoch 28/100\n",
            "7207/7207 [==============================] - 2s 227us/step - loss: 0.0654 - accuracy: 0.9761 - val_loss: 0.1603 - val_accuracy: 0.9501\n",
            "Epoch 29/100\n",
            "7207/7207 [==============================] - 2s 225us/step - loss: 0.0631 - accuracy: 0.9781 - val_loss: 0.1618 - val_accuracy: 0.9489\n",
            "Epoch 30/100\n",
            "7207/7207 [==============================] - 2s 226us/step - loss: 0.0686 - accuracy: 0.9754 - val_loss: 0.1657 - val_accuracy: 0.9423\n",
            "Epoch 31/100\n",
            "7207/7207 [==============================] - 2s 227us/step - loss: 0.0575 - accuracy: 0.9795 - val_loss: 0.1401 - val_accuracy: 0.9528\n",
            "Epoch 32/100\n",
            "7207/7207 [==============================] - 2s 227us/step - loss: 0.0544 - accuracy: 0.9803 - val_loss: 0.1466 - val_accuracy: 0.9506\n",
            "Epoch 33/100\n",
            "7207/7207 [==============================] - 2s 219us/step - loss: 0.0564 - accuracy: 0.9782 - val_loss: 0.1478 - val_accuracy: 0.9467\n",
            "Epoch 34/100\n",
            "7207/7207 [==============================] - 2s 219us/step - loss: 0.0473 - accuracy: 0.9810 - val_loss: 0.1506 - val_accuracy: 0.9523\n",
            "Epoch 35/100\n",
            "7207/7207 [==============================] - 2s 219us/step - loss: 0.0501 - accuracy: 0.9832 - val_loss: 0.1430 - val_accuracy: 0.9556\n",
            "Epoch 36/100\n",
            "7207/7207 [==============================] - 2s 218us/step - loss: 0.0437 - accuracy: 0.9854 - val_loss: 0.1683 - val_accuracy: 0.9562\n",
            "Epoch 37/100\n",
            "7207/7207 [==============================] - 2s 216us/step - loss: 0.0442 - accuracy: 0.9847 - val_loss: 0.1547 - val_accuracy: 0.9501\n",
            "Epoch 38/100\n",
            "7207/7207 [==============================] - 2s 221us/step - loss: 0.0425 - accuracy: 0.9831 - val_loss: 0.1753 - val_accuracy: 0.9467\n",
            "Epoch 39/100\n",
            "7207/7207 [==============================] - 2s 218us/step - loss: 0.0475 - accuracy: 0.9820 - val_loss: 0.1582 - val_accuracy: 0.9489\n",
            "Epoch 40/100\n",
            "7207/7207 [==============================] - 2s 218us/step - loss: 0.0412 - accuracy: 0.9854 - val_loss: 0.1626 - val_accuracy: 0.9489\n",
            "Epoch 41/100\n",
            "7207/7207 [==============================] - 2s 219us/step - loss: 0.0384 - accuracy: 0.9879 - val_loss: 0.1565 - val_accuracy: 0.9567\n",
            "Epoch 42/100\n",
            "7207/7207 [==============================] - 2s 221us/step - loss: 0.0341 - accuracy: 0.9881 - val_loss: 0.1695 - val_accuracy: 0.9501\n",
            "Epoch 43/100\n",
            "7207/7207 [==============================] - 2s 216us/step - loss: 0.0455 - accuracy: 0.9839 - val_loss: 0.1749 - val_accuracy: 0.9517\n",
            "Epoch 44/100\n",
            "7207/7207 [==============================] - 2s 220us/step - loss: 0.0517 - accuracy: 0.9822 - val_loss: 0.1541 - val_accuracy: 0.9528\n",
            "Epoch 45/100\n",
            "7207/7207 [==============================] - 2s 217us/step - loss: 0.0399 - accuracy: 0.9856 - val_loss: 0.1699 - val_accuracy: 0.9523\n",
            "Epoch 46/100\n",
            "7207/7207 [==============================] - 2s 216us/step - loss: 0.0347 - accuracy: 0.9881 - val_loss: 0.1670 - val_accuracy: 0.9528\n",
            "Epoch 47/100\n",
            "7207/7207 [==============================] - 2s 219us/step - loss: 0.0372 - accuracy: 0.9882 - val_loss: 0.1613 - val_accuracy: 0.9562\n",
            "Epoch 48/100\n",
            "7207/7207 [==============================] - 2s 220us/step - loss: 0.0417 - accuracy: 0.9864 - val_loss: 0.2119 - val_accuracy: 0.9412\n",
            "Epoch 49/100\n",
            "7207/7207 [==============================] - 2s 220us/step - loss: 0.0425 - accuracy: 0.9846 - val_loss: 0.1564 - val_accuracy: 0.9523\n",
            "Epoch 50/100\n",
            "7207/7207 [==============================] - 2s 221us/step - loss: 0.0227 - accuracy: 0.9914 - val_loss: 0.1878 - val_accuracy: 0.9489\n",
            "Epoch 51/100\n",
            "7207/7207 [==============================] - 2s 217us/step - loss: 0.0324 - accuracy: 0.9888 - val_loss: 0.1741 - val_accuracy: 0.9534\n",
            "Epoch 52/100\n",
            "7207/7207 [==============================] - 2s 216us/step - loss: 0.0402 - accuracy: 0.9858 - val_loss: 0.1683 - val_accuracy: 0.9562\n",
            "Epoch 53/100\n",
            "7207/7207 [==============================] - 2s 215us/step - loss: 0.0315 - accuracy: 0.9892 - val_loss: 0.1526 - val_accuracy: 0.9589\n",
            "Epoch 54/100\n",
            "7207/7207 [==============================] - 2s 216us/step - loss: 0.0326 - accuracy: 0.9896 - val_loss: 0.1823 - val_accuracy: 0.9534\n",
            "Epoch 55/100\n",
            "7207/7207 [==============================] - 2s 219us/step - loss: 0.0226 - accuracy: 0.9922 - val_loss: 0.1818 - val_accuracy: 0.9573\n",
            "Epoch 56/100\n",
            "7207/7207 [==============================] - 2s 218us/step - loss: 0.0298 - accuracy: 0.9895 - val_loss: 0.1661 - val_accuracy: 0.9606\n",
            "Epoch 57/100\n",
            "7207/7207 [==============================] - 2s 219us/step - loss: 0.0330 - accuracy: 0.9892 - val_loss: 0.1814 - val_accuracy: 0.9562\n",
            "Epoch 58/100\n",
            "7207/7207 [==============================] - 2s 217us/step - loss: 0.0340 - accuracy: 0.9883 - val_loss: 0.1956 - val_accuracy: 0.9523\n",
            "Epoch 59/100\n",
            "7207/7207 [==============================] - 2s 226us/step - loss: 0.0273 - accuracy: 0.9896 - val_loss: 0.1788 - val_accuracy: 0.9562\n",
            "Epoch 60/100\n",
            "7207/7207 [==============================] - 2s 228us/step - loss: 0.0259 - accuracy: 0.9917 - val_loss: 0.1599 - val_accuracy: 0.9550\n",
            "Epoch 61/100\n",
            "7207/7207 [==============================] - 2s 232us/step - loss: 0.0258 - accuracy: 0.9903 - val_loss: 0.2237 - val_accuracy: 0.9406\n",
            "Epoch 62/100\n",
            "7207/7207 [==============================] - 2s 229us/step - loss: 0.0248 - accuracy: 0.9899 - val_loss: 0.1731 - val_accuracy: 0.9539\n",
            "Epoch 63/100\n",
            "7207/7207 [==============================] - 2s 227us/step - loss: 0.0239 - accuracy: 0.9925 - val_loss: 0.1723 - val_accuracy: 0.9567\n",
            "Epoch 64/100\n",
            "7207/7207 [==============================] - 2s 226us/step - loss: 0.0195 - accuracy: 0.9924 - val_loss: 0.1971 - val_accuracy: 0.9523\n",
            "Epoch 65/100\n",
            "7207/7207 [==============================] - 2s 229us/step - loss: 0.0353 - accuracy: 0.9878 - val_loss: 0.1795 - val_accuracy: 0.9556\n",
            "Epoch 66/100\n",
            "7207/7207 [==============================] - 2s 227us/step - loss: 0.0294 - accuracy: 0.9896 - val_loss: 0.1763 - val_accuracy: 0.9623\n",
            "Epoch 67/100\n",
            "7207/7207 [==============================] - 2s 229us/step - loss: 0.0246 - accuracy: 0.9922 - val_loss: 0.1698 - val_accuracy: 0.9584\n",
            "Epoch 68/100\n",
            "7207/7207 [==============================] - 2s 231us/step - loss: 0.0189 - accuracy: 0.9938 - val_loss: 0.1867 - val_accuracy: 0.9539\n",
            "Epoch 69/100\n",
            "7207/7207 [==============================] - 2s 228us/step - loss: 0.0248 - accuracy: 0.9906 - val_loss: 0.1654 - val_accuracy: 0.9589\n",
            "Epoch 70/100\n",
            "7207/7207 [==============================] - 2s 230us/step - loss: 0.0255 - accuracy: 0.9918 - val_loss: 0.1966 - val_accuracy: 0.9517\n",
            "Epoch 71/100\n",
            "7207/7207 [==============================] - 2s 230us/step - loss: 0.0202 - accuracy: 0.9942 - val_loss: 0.1875 - val_accuracy: 0.9550\n",
            "Epoch 72/100\n",
            "7207/7207 [==============================] - 2s 229us/step - loss: 0.0265 - accuracy: 0.9915 - val_loss: 0.2191 - val_accuracy: 0.9478\n",
            "Epoch 73/100\n",
            "7207/7207 [==============================] - 2s 232us/step - loss: 0.0270 - accuracy: 0.9890 - val_loss: 0.1958 - val_accuracy: 0.9539\n",
            "Epoch 74/100\n",
            "7207/7207 [==============================] - 2s 223us/step - loss: 0.0221 - accuracy: 0.9931 - val_loss: 0.2136 - val_accuracy: 0.9484\n",
            "Epoch 75/100\n",
            "7207/7207 [==============================] - 2s 220us/step - loss: 0.0388 - accuracy: 0.9882 - val_loss: 0.1900 - val_accuracy: 0.9545\n",
            "Epoch 76/100\n",
            "7207/7207 [==============================] - 2s 219us/step - loss: 0.0239 - accuracy: 0.9928 - val_loss: 0.1872 - val_accuracy: 0.9440\n",
            "Epoch 77/100\n",
            "7207/7207 [==============================] - 2s 223us/step - loss: 0.0158 - accuracy: 0.9946 - val_loss: 0.1761 - val_accuracy: 0.9523\n",
            "Epoch 78/100\n",
            "7207/7207 [==============================] - 2s 221us/step - loss: 0.0219 - accuracy: 0.9931 - val_loss: 0.1814 - val_accuracy: 0.9550\n",
            "Epoch 79/100\n",
            "7207/7207 [==============================] - 2s 219us/step - loss: 0.0265 - accuracy: 0.9913 - val_loss: 0.1907 - val_accuracy: 0.9550\n",
            "Epoch 80/100\n",
            "7207/7207 [==============================] - 2s 221us/step - loss: 0.0145 - accuracy: 0.9947 - val_loss: 0.1970 - val_accuracy: 0.9562\n",
            "Epoch 81/100\n",
            "7207/7207 [==============================] - 2s 222us/step - loss: 0.0232 - accuracy: 0.9918 - val_loss: 0.2582 - val_accuracy: 0.9401\n",
            "Epoch 82/100\n",
            "7207/7207 [==============================] - 2s 222us/step - loss: 0.0179 - accuracy: 0.9932 - val_loss: 0.2300 - val_accuracy: 0.9528\n",
            "Epoch 83/100\n",
            "7207/7207 [==============================] - 2s 222us/step - loss: 0.0284 - accuracy: 0.9913 - val_loss: 0.1790 - val_accuracy: 0.9573\n",
            "Epoch 84/100\n",
            "7207/7207 [==============================] - 2s 219us/step - loss: 0.0189 - accuracy: 0.9928 - val_loss: 0.2335 - val_accuracy: 0.9539\n",
            "Epoch 85/100\n",
            "7207/7207 [==============================] - 2s 221us/step - loss: 0.0316 - accuracy: 0.9895 - val_loss: 0.1841 - val_accuracy: 0.9612\n",
            "Epoch 86/100\n",
            "7207/7207 [==============================] - 2s 221us/step - loss: 0.0219 - accuracy: 0.9922 - val_loss: 0.2063 - val_accuracy: 0.9523\n",
            "Epoch 87/100\n",
            "7207/7207 [==============================] - 2s 220us/step - loss: 0.0265 - accuracy: 0.9903 - val_loss: 0.1907 - val_accuracy: 0.9534\n",
            "Epoch 88/100\n",
            "7207/7207 [==============================] - 2s 220us/step - loss: 0.0135 - accuracy: 0.9946 - val_loss: 0.2278 - val_accuracy: 0.9578\n",
            "Epoch 89/100\n",
            "7207/7207 [==============================] - 2s 219us/step - loss: 0.0200 - accuracy: 0.9933 - val_loss: 0.2058 - val_accuracy: 0.9550\n",
            "Epoch 90/100\n",
            "7207/7207 [==============================] - 2s 219us/step - loss: 0.0139 - accuracy: 0.9953 - val_loss: 0.2413 - val_accuracy: 0.9545\n",
            "Epoch 91/100\n",
            "7207/7207 [==============================] - 2s 221us/step - loss: 0.0228 - accuracy: 0.9915 - val_loss: 0.2139 - val_accuracy: 0.9539\n",
            "Epoch 92/100\n",
            "7207/7207 [==============================] - 2s 219us/step - loss: 0.0246 - accuracy: 0.9913 - val_loss: 0.2533 - val_accuracy: 0.9495\n",
            "Epoch 93/100\n",
            "7207/7207 [==============================] - 2s 217us/step - loss: 0.0182 - accuracy: 0.9939 - val_loss: 0.2063 - val_accuracy: 0.9534\n",
            "Epoch 94/100\n",
            "7207/7207 [==============================] - 2s 218us/step - loss: 0.0186 - accuracy: 0.9935 - val_loss: 0.1986 - val_accuracy: 0.9550\n",
            "Epoch 95/100\n",
            "7207/7207 [==============================] - 2s 219us/step - loss: 0.0175 - accuracy: 0.9949 - val_loss: 0.2030 - val_accuracy: 0.9556\n",
            "Epoch 96/100\n",
            "7207/7207 [==============================] - 2s 221us/step - loss: 0.0124 - accuracy: 0.9947 - val_loss: 0.2067 - val_accuracy: 0.9628\n",
            "Epoch 97/100\n",
            "7207/7207 [==============================] - 2s 220us/step - loss: 0.0185 - accuracy: 0.9935 - val_loss: 0.1936 - val_accuracy: 0.9573\n",
            "Epoch 98/100\n",
            "7207/7207 [==============================] - 2s 219us/step - loss: 0.0242 - accuracy: 0.9918 - val_loss: 0.2039 - val_accuracy: 0.9584\n",
            "Epoch 99/100\n",
            "7207/7207 [==============================] - 2s 221us/step - loss: 0.0161 - accuracy: 0.9949 - val_loss: 0.1971 - val_accuracy: 0.9589\n",
            "Epoch 100/100\n",
            "7207/7207 [==============================] - 2s 224us/step - loss: 0.0195 - accuracy: 0.9938 - val_loss: 0.1999 - val_accuracy: 0.9573\n"
          ],
          "name": "stdout"
        }
      ]
    },
    {
      "cell_type": "code",
      "metadata": {
        "id": "GWIlgOnjzdhT"
      },
      "source": [
        "model.save('model 9.h5')"
      ],
      "execution_count": null,
      "outputs": []
    },
    {
      "cell_type": "code",
      "metadata": {
        "id": "dTE4J3IGUWlt"
      },
      "source": [
        "from matplotlib import pyplot as plt"
      ],
      "execution_count": null,
      "outputs": []
    },
    {
      "cell_type": "code",
      "metadata": {
        "colab": {
          "base_uri": "https://localhost:8080/",
          "height": 299
        },
        "id": "H1TU9-z2UZlj",
        "outputId": "2278765c-9187-409a-aae1-7cd91a7ba8e6"
      },
      "source": [
        "# plot the training loss and accuracy\n",
        "N = 100\n",
        "plt.style.use(\"ggplot\")\n",
        "plt.figure()\n",
        "plt.plot(np.arange(0, N), history.history[\"loss\"], label=\"train_loss\")\n",
        "plt.plot(np.arange(0, N), history.history[\"val_loss\"], label=\"val_loss\")\n",
        "plt.plot(np.arange(0, N), history.history[\"accuracy\"], label=\"train_acc\")\n",
        "plt.plot(np.arange(0, N), history.history[\"val_accuracy\"], label=\"val_acc\")\n",
        "plt.title(\"Training Loss and Accuracy\")\n",
        "plt.xlabel(\"Epoch #\")\n",
        "plt.ylabel(\"Loss/Accuracy\")\n",
        "plt.legend(loc=\"center right\")\n",
        "plt.savefig(\"CNN_Model9\")"
      ],
      "execution_count": null,
      "outputs": [
        {
          "output_type": "display_data",
          "data": {
            "image/png": "[encoded data removed]",
            "text/plain": [
              "<Figure size 432x288 with 1 Axes>"
            ]
          },
          "metadata": {
            "tags": []
          }
        }
      ]
    },
    {
      "cell_type": "code",
      "metadata": {
        "id": "mO_qh8EZl8qZ"
      },
      "source": [
        ""
      ],
      "execution_count": null,
      "outputs": []
    }
  ]
}